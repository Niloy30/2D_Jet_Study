{
 "cells": [
  {
   "cell_type": "code",
   "execution_count": 1,
   "metadata": {},
   "outputs": [],
   "source": [
    "import numpy as np\n",
    "from scipy.integrate import solve_ivp\n",
    "import sympy as sp"
   ]
  },
  {
   "cell_type": "code",
   "execution_count": 31,
   "metadata": {},
   "outputs": [
    {
     "data": {
      "text/latex": [
       "$\\displaystyle \\dot{x}_s = \\frac{A_{p} \\dot{x_p}}{A_{s}}$"
      ],
      "text/plain": [
       "Eq(\\dot{x}_s, A_p*\\dot{x_p}/A_s)"
      ]
     },
     "metadata": {},
     "output_type": "display_data"
    },
    {
     "data": {
      "text/latex": [
       "$\\displaystyle \\frac{d}{d t} m_{r} = - A_{v} p_{r} \\left(\\frac{2}{\\gamma + 1}\\right)^{\\frac{\\gamma + 1}{2 \\gamma - 2}} \\sqrt{\\frac{\\gamma}{R T}}$"
      ],
      "text/plain": [
       "Eq(Derivative(m_r, t), -A_v*p_r*(2/(gamma + 1))**((gamma + 1)/(2*gamma - 2))*sqrt(gamma/(R*T)))"
      ]
     },
     "metadata": {},
     "output_type": "display_data"
    },
    {
     "data": {
      "text/plain": [
       "3"
      ]
     },
     "metadata": {},
     "output_type": "display_data"
    },
    {
     "data": {
      "text/latex": [
       "$\\displaystyle \\dot{m}_p = - \\dot{m}_r$"
      ],
      "text/plain": [
       "Eq(\\dot{m}_p, -\\dot{m}_r)"
      ]
     },
     "metadata": {},
     "output_type": "display_data"
    },
    {
     "data": {
      "text/latex": [
       "$\\displaystyle p_{r} = \\frac{R T \\dot{m}_r \\gamma}{V_{r}}$"
      ],
      "text/plain": [
       "Eq(p_r, R*T*\\dot{m}_r*gamma/V_r)"
      ]
     },
     "metadata": {},
     "output_type": "display_data"
    },
    {
     "data": {
      "text/latex": [
       "$\\displaystyle \\frac{d}{d t} p_{p} = \\frac{- A_{p} \\gamma p_{p} \\frac{d}{d t} x_{p} + T c_{p} m_{p} \\left(\\gamma - 1\\right)}{V_{p}}$"
      ],
      "text/plain": [
       "Eq(Derivative(p_p, t), (-A_p*gamma*p_p*Derivative(x_p, t) + T*c_p*m_p*(gamma - 1))/V_p)"
      ]
     },
     "metadata": {},
     "output_type": "display_data"
    },
    {
     "data": {
      "text/latex": [
       "$\\displaystyle \\frac{d^{2}}{d t^{2}} x_{p} = \\frac{A_{p} p_{p} - A_{s} p_{s} - g \\left(m_{piston} + m_{w}\\right)}{m_{piston}}$"
      ],
      "text/plain": [
       "Eq(Derivative(x_p, (t, 2)), (A_p*p_p - A_s*p_s - g*(m_piston + m_w))/m_piston)"
      ]
     },
     "metadata": {},
     "output_type": "display_data"
    },
    {
     "data": {
      "text/latex": [
       "$\\displaystyle \\frac{d^{2}}{d t^{2}} x_{s} = \\frac{A_{p} p_{p} - A_{s} p_{s} - g m_{w}}{m_{water}}$"
      ],
      "text/plain": [
       "Eq(Derivative(x_s, (t, 2)), (A_p*p_p - A_s*p_s - g*m_w)/m_water)"
      ]
     },
     "metadata": {},
     "output_type": "display_data"
    }
   ],
   "source": [
    "xs_dot, A_p, A_s, xp_dot = sp.symbols(r'\\dot{x}_s A_p A_s \\dot{x_p}')\n",
    "m_r, A_v, p_r, gamma, R, T = sp.symbols('m_r A_v p_r gamma R T')\n",
    "m_p, p_p, V_p = sp.symbols('m_p p_p V_p')\n",
    "mp_dot, mr_dot = sp.symbols(r'\\dot{m}_p \\dot{m}_r')\n",
    "p_r, m_r, gamma, R, T, V_r = sp.symbols('p_r m_r gamma R T V_r')\n",
    "rho_p, V_p, gamma, c_p, m_p, T, A_p, x_p, A_s, p_p, p_s, m_w, m_piston, g, m_water, x_s = sp.symbols(\n",
    "'rho_p V_p gamma c_p m_p T A_p x_p A_s p_p p_s m_w m_piston g m_water x_s')\n",
    "\n",
    "\n",
    "eq1 = sp.Eq(xs_dot,A_p/A_s * xp_dot)\n",
    "eq2 = sp.Eq(\n",
    "    sp.Derivative(m_r, 't'),\n",
    "    -A_v * p_r * sp.sqrt(gamma / (R * T)) * ((2 / (gamma + 1)) ** ((gamma + 1) / (2 * (gamma - 1))))\n",
    ")\n",
    "\n",
    "eq3 = 3\n",
    "eq4 = sp.Eq(mp_dot, -mr_dot)\n",
    "eq5 = sp.Eq(p_r,mr_dot* (gamma * R * T) / V_r)\n",
    "\n",
    "# Define the equations\n",
    "eq6 = sp.Eq(sp.Derivative(p_p, 't'), (1/V_p) * ((gamma - 1) * c_p * m_p * T - gamma * p_p * A_p * sp.Derivative(x_p, 't')))\n",
    "eq7 = sp.Eq(sp.Derivative(x_p, ('t', 2)), (A_p * p_p - A_s * p_s - (m_w + m_piston) * g) / m_piston)\n",
    "eq8 = sp.Eq(sp.Derivative(x_s, ('t', 2)), (-A_s * p_s + A_p * p_p - m_w * g) / m_water)\n",
    "\n",
    "# Display the equations\n",
    "display(eq1, eq2, eq3, eq4, eq5, eq6, eq7, eq8)"
   ]
  }
 ],
 "metadata": {
  "kernelspec": {
   "display_name": ".venv",
   "language": "python",
   "name": "python3"
  },
  "language_info": {
   "codemirror_mode": {
    "name": "ipython",
    "version": 3
   },
   "file_extension": ".py",
   "mimetype": "text/x-python",
   "name": "python",
   "nbconvert_exporter": "python",
   "pygments_lexer": "ipython3",
   "version": "3.12.3"
  }
 },
 "nbformat": 4,
 "nbformat_minor": 2
}
